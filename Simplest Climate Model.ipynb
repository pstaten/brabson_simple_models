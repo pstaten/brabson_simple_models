{
 "cells": [
  {
   "cell_type": "markdown",
   "id": "51db161e",
   "metadata": {},
   "source": [
    "[Replace this with your first and last name]"
   ]
  },
  {
   "cell_type": "markdown",
   "id": "f1f0a251",
   "metadata": {},
   "source": [
    "# The Simplest Climate Model Ever.\n",
    "Here's where I can put a bunch of great introductory text.\n",
    "<img src=\"simplest_model.jpeg\" alt=\"drawing\" width=\"75%\"/>\n",
    "\n",
    "When we combine the simple equations above and solve for the surface temperature of the earth, the end result is...not too complicated:\n",
    "\n",
    "$$ T_{earth} = T_{sun}\\sqrt[4]\\frac{r_{sun}^2}{4~(\\textit{distance})^2}$$\n",
    "\n",
    "This kind of model is often called a \"back-of-the-envelope\" model. It's the kind of thing a scientist really ought to do before asking for thousands of dollars to do something more complicated. It's not quite as accurate, but it's a lot cheaper.\n",
    "\n",
    "## Want to run the model? (You know you do.)\n",
    "Click on the box below with the two lines of code, and click the \"play\" button to run the model. Then scroll down."
   ]
  },
  {
   "cell_type": "code",
   "execution_count": 2,
   "id": "cf11fc02",
   "metadata": {},
   "outputs": [
    {
     "data": {
      "application/vnd.jupyter.widget-view+json": {
       "model_id": "868e822f28354e6fb00f6429d3905cd9",
       "version_major": 2,
       "version_minor": 0
      },
      "text/plain": [
       "Canvas(toolbar=Toolbar(toolitems=[('Home', 'Reset original view', 'home', 'home'), ('Back', 'Back to previous …"
      ]
     },
     "metadata": {},
     "output_type": "display_data"
    },
    {
     "data": {
      "application/vnd.jupyter.widget-view+json": {
       "model_id": "171c75d384d141d885f02433610739bf",
       "version_major": 2,
       "version_minor": 0
      },
      "text/plain": [
       "interactive(children=(FloatSlider(value=1.0, description='AU', max=50.0, min=0.1), Output()), _dom_classes=('w…"
      ]
     },
     "metadata": {},
     "output_type": "display_data"
    }
   ],
   "source": [
    "%matplotlib widget\n",
    "exec(open('planet_model.py').read())"
   ]
  },
  {
   "cell_type": "markdown",
   "id": "e0ddf165",
   "metadata": {},
   "source": [
    "## Exercises\n",
    "**1. See the slider labeled `AU`? Drag it and see what happens! Also, if you are using a device with a mouse, move the mouse cursor over the plot to get the distances (in AU) and temperatures (in Kelvins) of different places in the plot. Record your observations in the box below**"
   ]
  },
  {
   "cell_type": "markdown",
   "id": "01366214",
   "metadata": {},
   "source": []
  },
  {
   "cell_type": "markdown",
   "id": "d5ebf20d",
   "metadata": {},
   "source": [
    "**2. Are any planets colder than the model, given their distance from the sun? If so, which ones?**"
   ]
  },
  {
   "cell_type": "markdown",
   "id": "c3c8f8de",
   "metadata": {},
   "source": []
  },
  {
   "cell_type": "markdown",
   "id": "236c8cee",
   "metadata": {},
   "source": [
    "**3. Are any planets warmer than the model, given their distance from the sun? If so, which ones?**"
   ]
  },
  {
   "cell_type": "markdown",
   "id": "047ac396",
   "metadata": {},
   "source": []
  },
  {
   "cell_type": "markdown",
   "id": "eb641ec4",
   "metadata": {},
   "source": [
    "**4. What do the planets that behave the least like the model have in common?**"
   ]
  },
  {
   "cell_type": "markdown",
   "id": "fa93ac2f",
   "metadata": {},
   "source": []
  },
  {
   "cell_type": "markdown",
   "id": "0328a6a8",
   "metadata": {},
   "source": [
    "**5. a philosophy question**"
   ]
  },
  {
   "cell_type": "markdown",
   "id": "c2974a4c",
   "metadata": {},
   "source": []
  },
  {
   "cell_type": "markdown",
   "id": "b0723413",
   "metadata": {},
   "source": [
    "**6. another question**"
   ]
  },
  {
   "cell_type": "markdown",
   "id": "372b8c7f",
   "metadata": {},
   "source": []
  },
  {
   "cell_type": "markdown",
   "id": "a3fc5367",
   "metadata": {},
   "source": [
    "**7. another question**"
   ]
  },
  {
   "cell_type": "markdown",
   "id": "5f332463",
   "metadata": {},
   "source": []
  },
  {
   "cell_type": "markdown",
   "id": "7bc07345",
   "metadata": {},
   "source": [
    "**8. another question**"
   ]
  },
  {
   "cell_type": "markdown",
   "id": "602615e2",
   "metadata": {},
   "source": []
  },
  {
   "cell_type": "markdown",
   "id": "d7e08591",
   "metadata": {},
   "source": [
    "## References:\n",
    "- Temperatures taken from [solarsystem.NASA.gov](https://solarsystem.nasa.gov/resources/681/solar-system-temperatures/) on 18 Jan 2022\n",
    "- Planet distances taken from [solarsystem.NASA.gov/planets](https://solarsystem.nasa.gov/planets/overview/) on 18 Jan 2022. Orbits are averages, with the exception of Pluto, whose orbit is so crazy that the average distance from the sun doesn't mean much. So I just picked a number close to its farthest orbit."
   ]
  }
 ],
 "metadata": {
  "kernelspec": {
   "display_name": "Python 3 (ipykernel)",
   "language": "python",
   "name": "python3"
  },
  "language_info": {
   "codemirror_mode": {
    "name": "ipython",
    "version": 3
   },
   "file_extension": ".py",
   "mimetype": "text/x-python",
   "name": "python",
   "nbconvert_exporter": "python",
   "pygments_lexer": "ipython3",
   "version": "3.9.7"
  }
 },
 "nbformat": 4,
 "nbformat_minor": 5
}
