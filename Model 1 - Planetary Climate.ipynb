{
 "cells": [
  {
   "cell_type": "markdown",
   "id": "da940ceb",
   "metadata": {},
   "source": [
    "# Model 1 - A back-of-the-envelope climate simulator.\n",
    "<img src=\"simplest_model.jpeg\" alt=\"drawing\" width=\"75%\"/>\n",
    "\n",
    "## Run the model!\n",
    "First, click on the box below with the two lines of code. Then, click or tap the \"play\" button, or hit `shift+enter` if you're using a keyboard."
   ]
  },
  {
   "cell_type": "code",
   "execution_count": 20,
   "id": "2eb94677",
   "metadata": {},
   "outputs": [
    {
     "data": {
      "application/vnd.jupyter.widget-view+json": {
       "model_id": "ae680087767d4469bc10f03d9f5b5ce8",
       "version_major": 2,
       "version_minor": 0
      },
      "text/plain": [
       "Canvas(toolbar=Toolbar(toolitems=[('Home', 'Reset original view', 'home', 'home'), ('Back', 'Back to previous …"
      ]
     },
     "metadata": {},
     "output_type": "display_data"
    },
    {
     "data": {
      "application/vnd.jupyter.widget-view+json": {
       "model_id": "1e92c4765581494eacce614c643362cb",
       "version_major": 2,
       "version_minor": 0
      },
      "text/plain": [
       "interactive(children=(FloatSlider(value=1.0, description='distance', max=50.0, min=0.1), Output()), _dom_class…"
      ]
     },
     "metadata": {},
     "output_type": "display_data"
    }
   ],
   "source": [
    "%matplotlib widget\n",
    "exec(open('planet_model.py').read())"
   ]
  },
  {
   "cell_type": "markdown",
   "id": "5582c3a6",
   "metadata": {},
   "source": [
    "## About the Model\n",
    "When we combine the simple equations above and solve for the surface temperature of the earth, the end result is...not too complicated:\n",
    "\n",
    "$$ T_{earth} = T_{sun}\\sqrt[4]\\frac{r_{sun}^2}{4~(\\textit{distance})^2}$$\n",
    "\n",
    "This kind of model is often called a \"back-of-the-envelope\" model. It's the kind of thing a scientist really ought to do before asking for thousands of dollars to do something more complicated. It's not quite as accurate, but it's a lot cheaper.\n"
   ]
  },
  {
   "cell_type": "markdown",
   "id": "536dc766",
   "metadata": {},
   "source": [
    "## References:\n",
    "- Temperatures taken from [solarsystem.NASA.gov](https://solarsystem.nasa.gov/resources/681/solar-system-temperatures/) on 18 Jan 2022\n",
    "- Planet distances taken from [solarsystem.NASA.gov/planets](https://solarsystem.nasa.gov/planets/overview/) on 18 Jan 2022. Orbits are averages, with the exception of Pluto, whose orbit is so crazy that the average distance from the sun doesn't mean much. So I just picked a number close to its farthest orbit."
   ]
  }
 ],
 "metadata": {
  "kernelspec": {
   "display_name": "Python 3 (ipykernel)",
   "language": "python",
   "name": "python3"
  },
  "language_info": {
   "codemirror_mode": {
    "name": "ipython",
    "version": 3
   },
   "file_extension": ".py",
   "mimetype": "text/x-python",
   "name": "python",
   "nbconvert_exporter": "python",
   "pygments_lexer": "ipython3",
   "version": "3.9.7"
  }
 },
 "nbformat": 4,
 "nbformat_minor": 5
}
