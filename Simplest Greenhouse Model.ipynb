{
 "cells": [
  {
   "cell_type": "markdown",
   "metadata": {},
   "source": [
    "# Did it!\n",
    "## Hey Kirstin & Qiu\n",
    "This is the second model step. This is a super-simple radiative balance model, and it assumes that all gases are well-mixed. It also doesn't know anything about what kinds of gases are in the atmosphere. Also, the \"greenhouse\" toggle is a bit rough in how it is implemented. If it is 100%, that means every layer of the atmosphere (no matter how thin) absorbs all the infrared that hits it. If it is 20%, that means that every layer of the atmosphere (no matter how thin) absorbs 20% of the infrared that approaches that layer. So adding layers to the atmosphere strengthens its greenhouse effect.\n",
    "\n",
    "(Adding layers does not increase the mass of the atmosphere. The mass of the atmosphere is only used to keep the model from crashing. I have a rough feel for how the atmosphere *should* work given its mass and the specific heat capacities of the atmosphere and ocean, so I used these realistic values, rather than non-dimensionalizing the problem. That creates a tad bit of unnecessary complexity in the code, but it's a quick way for me to get realistic values without really, truly, deeply understanding the physics. *Sigh*)\n",
    "\n",
    "Anyway, I'd love for you two to play with the simulation below, and send me some questions or points of discussion for the students. I've used up all the time I have for this this week.\n",
    "\n",
    "Here are some things the model is missing:\n",
    "1 - clouds\n",
    "2 - absorption and of visible light by the atmosphere itself, particularly absorption by ozone in the stratosphere\n",
    "3 - treatment of individual greenhouse gases\n",
    "4 - convective adjustment. This is just a simple radiative equilibrium model. If temperature decreases too quickly with height in a real atmosphere, warmer air will rise and cooler air will sink until the temperature profile eases out a bit (kind of like a hill of sand can only get so steep).\n",
    "\n",
    "Note that, if you add #s 2–4 above, you'll re-create the [nobel-prize-winning model that Manabe created](https://www.princeton.edu/news/2021/10/05/great-fun-manabe-wins-nobel-prize-physics-modeling-climate-change) in...what was it, 1956?...that predicted a 2.3°C increase in surface temperature for doubling CO2. (This is a very good estimate of climate sensitivity, and is just on the low-end of what big, fancy, expensive models do.)\n",
    "\n",
    "For a more comprehensive treatment of this problem and what Manabe figured out, see [Section 11](https://brian-rose.github.io/ClimateLaboratoryBook/courseware/radeq.html), [Section 12](https://brian-rose.github.io/ClimateLaboratoryBook/courseware/rce.html), and [Section 13](https://brian-rose.github.io/ClimateLaboratoryBook/courseware/sensitivity-feedback.html) of Brian Rose's Climate Laboratory course.\n",
    "\n",
    "This simple model below runs for 40-thousand days. In some cases that's not enough time for the model to completely equilibrate, and the students may run into extreme cases where the top-of-the-atmosphere balance is off by a few Kelvins."
   ]
  },
  {
   "cell_type": "code",
   "execution_count": 15,
   "metadata": {},
   "outputs": [
    {
     "data": {
      "application/vnd.jupyter.widget-view+json": {
       "model_id": "51870d0850d74c62b2613345c37f7da5",
       "version_major": 2,
       "version_minor": 0
      },
      "text/plain": [
       "VBox(children=(Output(), HBox(children=(VBox(children=(IntSlider(value=30, continuous_update=False, descriptio…"
      ]
     },
     "metadata": {},
     "output_type": "display_data"
    }
   ],
   "source": [
    "%matplotlib widget\n",
    "exec(open('atmos_model.py').read())\n",
    "widgets.VBox([output, controls])"
   ]
  },
  {
   "cell_type": "code",
   "execution_count": null,
   "metadata": {},
   "outputs": [],
   "source": []
  }
 ],
 "metadata": {
  "kernelspec": {
   "display_name": "Python 3 (ipykernel)",
   "language": "python",
   "name": "python3"
  },
  "language_info": {
   "codemirror_mode": {
    "name": "ipython",
    "version": 3
   },
   "file_extension": ".py",
   "mimetype": "text/x-python",
   "name": "python",
   "nbconvert_exporter": "python",
   "pygments_lexer": "ipython3",
   "version": "3.9.7"
  }
 },
 "nbformat": 4,
 "nbformat_minor": 2
}
