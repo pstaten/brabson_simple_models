{
 "cells": [
  {
   "cell_type": "markdown",
   "id": "e330ebb0",
   "metadata": {},
   "source": [
    "# A simple carbon cycle model\n",
    "\n",
    "Below is a figure from the Intergovernmental Panel on Climate Change. It shows about how much carbon we think is contained in different parts of the earth system, and how much moves between these parts each year.\n",
    "\n",
    "Climate scientists often call the different places where carbon can stay \"reservoirs.\" They call the movement of carbon from one place to another the \"flux.\" The boxes in this figure show reservoirs, and the arrows show fluxes. The units of the numbers in the reservoirs are petagrams of carbon, or quadrillions of grams of carbon. The units of the numbers by the fluxes are petagrams carbon per year.\n",
    "\n",
    "<img src=\"ccycle_IPCC.jpg\" alt=\"IPCC carbon cycle numbers figure\" width=\"75%\"/> <i>Figure 6 from IPCC, 2013: Climate Change 2013: The Physical Science Basis. Contribution of Working Group I to the Fifth Assessment Report of the Intergovernmental Panel on Climate Change, Stocker, T.F., D. Qin, G.-K. Plattner, M. Tignor, S.K. Allen, J. Boschung, A. Nauels, Y. Xia, V. Bex and P.M. Midgley (eds.). Cambridge University Press, Cambridge, United Kingdom and New York, NY, USA, 1535 pp.</i>\n",
    "\n",
    "I took the information in this drawing and made a model out of it. You can try it below, but there are some things you should know about this model...\n",
    "\n",
    "Are you ready?\n",
    "\n",
    "My model is *full* of assumptions, and some of them don't hold up.\n",
    "\n",
    "So why did I put so many assumptions in there? Because this picture only tells us a couple of things:\n",
    "1. How much carbon was in each place, and how much carbon was moving between places, before we messed with the carbon cycle much.\n",
    "2. How much carbon is in each place, and how much carbon is moving between places, because we messed with the carbon cycle.\n",
    "\n",
    "Here's what this picture does *not* say:\n",
    "1. Why some of the reservoirs and fluxes and changed\n",
    "2. How fluxes will change in the future if the amount of carbon in a reservoir changes\n",
    "3. How behavior of some of the reservoirs and the fluxes might change – very suddenly – in the near future.\n",
    "\n",
    "If you run the model with checkboxes off, fluxes do not change. You can change the model by allowing the fluxes to adjust over time. Here are my assumptions:\n",
    "1. Dissolution: The increased air-to-ocean flux from dissolving CO2 into the ocean is due to the increased carbon in the atmosphere. If the carbon in the atmosphere increases even more, the dissolution will continue to increase at the same rate. (Likewise, decrease the carbon in the atmosphere, and dissolution will decrease at the same rate.) You could think of this as the ocean being more helpful at stopping climate change.\n",
    "2. Outgassing: The increased ocean-to-atmosphere flux from outgassing dissolved CO2 from the ocean is due to the increased carbon in the surface ocean. If the carbon in the surface ocean increases more, outgassing will continue to increase at the same rate. You could think of this as the ocean being less helpful at stopping climate change.\n",
    "3. Photosynthesis: The increased air-to-vegetation flux due to photosynthesis is due to the increased carbon in the atmosphere. If the carbon in the atmosphere increases even more, the photosynthesis will continue to increase at the same rate. You could think of this as the biosphere being more helpful at stopping climate change.\n",
    "4. Respiration and wildfire: The increased vegation-to-air flux due to respiration and wildfire is due to the increased carbon in the form of (primarily) vegetation. If the carbon in the vegetation increases even more, the respiration will continue to increase at the same rate. You could think of this as the biosphere being less helpful at stopping climate change.\n",
    "5. Everything else: the other fluxes in this model are all set. But in the real world, the carbon cycle is connected. So the fluxes should change over time. But how? The simple assumption I make in this model is that if a reservoir has more carbon than it started with, it gives away proportionately more carbon. If it has less carbon than it started with, it gives away proportionately less carbon. There are a few fluxes that I don't treat this way:\n",
    "  - volcanism obviously doesn't change, so I leave it.\n",
    "  - the amount of carbon labeled \"marine biota\" is *tiny* compared to how much comes from the surface ocean and leaves to the other reservoirs. It's really just a stopping place for carbon from the surface ocean before it gets divided up and given to other parts of the ocean. I just keep the ratios the same; if twice as much comes from the surface ocean, twice as much is given to the deep ocean, etc.\n",
    "  - living plantlife can't just grow and cover the whole earth. Each year, any net increase in carbon in \"vegetation\" is given to \"soil\" instead.\n",
    "\n",
    "There are a lot of problems with all of these assumptions. But those problems are part of what make a model like this so fun for teaching.\n",
    "\n",
    "Before you play with the model, there are a few changes I made from the IPCC figure to make the model work better:\n",
    "1. The carbon in the atmosphere was draining into the surface ocean. So I increased volcanism to keep the atmosphere alive and happy.\n",
    "2. The carbon in the surface ocean was draining into the deep ocean. So I adjusted the fluxes there to keep the surface ocean alive.\n",
    "3. I assumed most of the \"fossile fuels and cement\" flux was \"fossil fuels.\" It doesn't change the behavior of the model, except for how quickly we use up our oil and gas reserves.\n",
    "\n",
    "Enjoy!"
   ]
  },
  {
   "cell_type": "code",
   "execution_count": 2,
   "id": "9e0a1892",
   "metadata": {},
   "outputs": [
    {
     "data": {
      "application/vnd.jupyter.widget-view+json": {
       "model_id": "1b4bed03afb946a7a081732696ca6df2",
       "version_major": 2,
       "version_minor": 0
      },
      "text/plain": [
       "VBox(children=(Output(), VBox(children=(HBox(children=(VBox(children=(Label(value='Modern emissions'), Checkbo…"
      ]
     },
     "metadata": {},
     "output_type": "display_data"
    }
   ],
   "source": [
    "%matplotlib widget\n",
    "exec(open('carbon_model.py').read())\n",
    "widgets.VBox([output, controls])"
   ]
  },
  {
   "cell_type": "code",
   "execution_count": null,
   "id": "0f4d92a2",
   "metadata": {},
   "outputs": [],
   "source": []
  }
 ],
 "metadata": {
  "kernelspec": {
   "display_name": "Python 3 (ipykernel)",
   "language": "python",
   "name": "python3"
  },
  "language_info": {
   "codemirror_mode": {
    "name": "ipython",
    "version": 3
   },
   "file_extension": ".py",
   "mimetype": "text/x-python",
   "name": "python",
   "nbconvert_exporter": "python",
   "pygments_lexer": "ipython3",
   "version": "3.9.7"
  }
 },
 "nbformat": 4,
 "nbformat_minor": 5
}
